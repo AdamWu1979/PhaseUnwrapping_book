{
 "cells": [
  {
   "cell_type": "markdown",
   "metadata": {},
   "source": [
    "\n",
    "***\n",
    " *Chen NK* | *Wu PH* "
   ]
  },
  {
   "cell_type": "code",
   "execution_count": 1,
   "metadata": {
    "ExecuteTime": {
     "end_time": "2020-03-24T00:24:45.512000+01:00",
     "start_time": "2020-03-23T23:24:40.812Z"
    }
   },
   "outputs": [],
   "source": [
    "# julia 1.0.1\n",
    "\n",
    "###### define the parameters in the next 7 lines\n",
    "magnitude_nii_file = string(\"data/magnitude.nii\");\n",
    "phase_nii_file = string(\"data/phase.nii\");\n",
    "partiallyUnwrapped_nii_file = string(\"data/partiallyUnwrappedMap.nii\");\n",
    "criticalROI_nii_file = string(\"data/criticalROI.nii\");\n",
    "ChooseThisSlice = Int64(5); # process data in a chosen slice; e.g., slice #5 in this case\n",
    "criticalROILabel = Int64(1); # unwrap phase values inside a critical ROI labeled with an integer number; e.g., 1 in this case\n",
    "output_nii_file = string(\"data/output.nii\");"
   ]
  },
  {
   "cell_type": "markdown",
   "metadata": {},
   "source": [
    "The main program starts here; no need to modify the code below (although you could use different value of patchsize)"
   ]
  },
  {
   "cell_type": "code",
   "execution_count": 2,
   "metadata": {
    "ExecuteTime": {
     "end_time": "2020-03-24T00:25:20.015000+01:00",
     "start_time": "2020-03-23T23:24:44.489Z"
    }
   },
   "outputs": [],
   "source": [
    "push!(LOAD_PATH,\"juliafunction\");\n",
    "using PyPlot\n",
    "using Read_NIfTI1\n",
    "using myFun\n",
    "using Distributed\n",
    "# addprocs(Sys.CPU_THREADS-nprocs());\n",
    "# nprocs()\n",
    "@everywhere using FFTW\n",
    "@everywhere using LinearAlgebra\n",
    "@everywhere using SharedArrays"
   ]
  },
  {
   "cell_type": "code",
   "execution_count": 3,
   "metadata": {
    "ExecuteTime": {
     "end_time": "2020-03-24T00:27:37.797000+01:00",
     "start_time": "2020-03-23T23:26:30.849Z"
    }
   },
   "outputs": [
    {
     "name": "stdout",
     "output_type": "stream",
     "text": [
      " "
     ]
    },
    {
     "data": {
      "image/png": "[encoded data removed]",
      "text/plain": [
       "Figure(PyObject <Figure size 1000x500 with 1 Axes>)"
      ]
     },
     "metadata": {},
     "output_type": "display_data"
    },
    {
     "name": "stdout",
     "output_type": "stream",
     "text": [
      "11.629099 seconds (2.42 M allocations: 3.519 GiB, 9.63% gc time)\n"
     ]
    }
   ],
   "source": [
    "function julia_main(magnitude_nii_file::String,phase_nii_file::String,partiallyUnwrapped_nii_file::String,criticalROI_nii_file::String,ChooseThisSlice::Int64,criticalROILabel::Int64)\n",
    "    headerinfo1 = load_nii_header(magnitude_nii_file);\n",
    "    data001 = load_nii_data(magnitude_nii_file, headerinfo1);\n",
    "    headerinfo1 = load_nii_header(phase_nii_file);\n",
    "    data002 = load_nii_data(phase_nii_file, headerinfo1);\n",
    "    imagedata_noise = data001 .* exp.(complex(0,1)*data002);\n",
    "\n",
    "    imgsn = imagedata_noise[:,:,ChooseThisSlice];\n",
    "    ksn = ifftshift(ifft(ifftshift(imgsn)));\n",
    "\n",
    "    @everywhere function sidm(kdata::Array{Complex{Float32},2})\n",
    "        kabs = abs.(kdata);\n",
    "        pxpy = findall(kabs .== maximum(kabs));\n",
    "        px = pxpy[1][1];\n",
    "        py = pxpy[1][2];\n",
    "        return (px,py);\n",
    "    end\n",
    "\n",
    "    datasize1,datasize2 = size(imgsn)\n",
    "\n",
    "    pxmap = SharedArray{Float64,2}((datasize1,datasize2));\n",
    "    pymap = SharedArray{Float64,2}((datasize1,datasize2));\n",
    "\n",
    "    patchsize = 7;\n",
    "    patchsize = patchsize + div(1 + (-1).^patchsize,2)\n",
    "    ps1 = max(div((patchsize-1),2),1);\n",
    "\n",
    "    @time @sync @distributed for cntx = 1:datasize1\n",
    "        @inbounds @fastmath @simd for cnty = 1:datasize2\n",
    "            tmp1 = zeros(ComplexF32,(datasize1,datasize2));\n",
    "            startingx = max(1,cntx-ps1);\n",
    "            startingy = max(1,cnty-ps1);\n",
    "            endingx = min(cntx+ps1,datasize1);\n",
    "            endingy = min(cnty+ps1,datasize2);\n",
    "            tmp1[startingx:endingx,startingy:endingy] = imgsn[startingx:endingx,startingy:endingy];\n",
    "            tmp2 = ifftshift(ifft(ifftshift(tmp1)));\n",
    "            px,py = sidm(tmp2);\n",
    "            pxmap[cntx,cnty]=px;\n",
    "            pymap[cntx,cnty]=py;\n",
    "        end\n",
    "    end\n",
    "\n",
    "    pxmap2a = pxmap.-(datasize1/2);\n",
    "    pymap2a = pymap.-(datasize2/2);\n",
    "    pxmap_radppixel = -pxmap2a*2*π/datasize1;\n",
    "    pymap_radppixel = -pymap2a*2*π/datasize2;\n",
    "\n",
    "    headerinfo4 = load_nii_header(partiallyUnwrapped_nii_file);\n",
    "    preludephasemap_all = load_nii_data(partiallyUnwrapped_nii_file, headerinfo4);\n",
    "    preludephasemap = preludephasemap_all[:,:,ChooseThisSlice];\n",
    "\n",
    "    preludemask = ones(datasize1,datasize2);\n",
    "    L = findall(preludephasemap.==0);\n",
    "    preludemask[L].=0;\n",
    "    preludephasemap_cpe = closest_point_estimation(preludephasemap,preludemask);\n",
    "\n",
    "    headerinfo5 = load_nii_header(criticalROI_nii_file);\n",
    "    criticalROI_all = load_nii_data(criticalROI_nii_file, headerinfo5);\n",
    "    criticalROI = criticalROI_all[:,:,ChooseThisSlice];\n",
    "\n",
    "    L2 = findall(criticalROI.==criticalROILabel);\n",
    "\n",
    "    if length(L2)>0\n",
    "        xcoordarray = zeros(Int64,length(L2));\n",
    "        ycoordarray = zeros(Int64,length(L2));\n",
    "        for cnt = 1:length(L2)\n",
    "            xcoordarray[cnt] = L2[cnt][1];\n",
    "            ycoordarray[cnt] = L2[cnt][2];\n",
    "        end\n",
    "\n",
    "        roiStartX = minimum(xcoordarray)-1;\n",
    "        roiEndX = maximum(xcoordarray)+1;\n",
    "        roiStartY = minimum(ycoordarray)-1;\n",
    "        roiEndY = maximum(ycoordarray)+1;\n",
    "        xdim = roiEndX-roiStartX+1;\n",
    "        ydim = roiEndY-roiStartY+1;\n",
    "\n",
    "        boundaryConditionMap = convert(Array{Float64},preludephasemap_cpe[roiStartX:roiEndX,roiStartY:roiEndY]);\n",
    "        mask = ones(xdim,ydim)-criticalROI[roiStartX:roiEndX,roiStartY:roiEndY];\n",
    "        snr_ref = abs.(imgsn)[roiStartX:roiEndX,roiStartY:roiEndY].*mask;\n",
    "        λmap = snr_ref ./maximum(snr_ref[:]);\n",
    "        λmap[:,1].=2.;\n",
    "        λmap[:,end].=2.;\n",
    "        λmap[1,:].=2.;\n",
    "        λmap[end,:].=2.;\n",
    "        Mgv = pxmap_radppixel[roiStartX:roiEndX,roiStartY:roiEndY];\n",
    "        Mgh = pymap_radppixel[roiStartX:roiEndX,roiStartY:roiEndY];\n",
    "\n",
    "        M_recovered = twoDimIntegration(mask,boundaryConditionMap,λmap,Mgv,Mgh);\n",
    "\n",
    "        newPhaseMap = deepcopy(preludephasemap_cpe);\n",
    "        newPhaseMap[roiStartX:roiEndX,roiStartY:roiEndY]= M_recovered;\n",
    "        newPhaseMapMask = newPhaseMap.*preludemask;\n",
    "    else\n",
    "        newPhaseMap = preludephasemap;\n",
    "        newPhaseMapMask = newPhaseMap.*preludemask;\n",
    "    end\n",
    "\n",
    "    headerinfo4[\"datatype\"] = Int16(16);\n",
    "    output_all = convert(Array{Float32,3}, preludephasemap_all);\n",
    "    newPhaseMapMask = convert(Array{Float32,2}, newPhaseMapMask);\n",
    "    output_all[:,:,ChooseThisSlice] = newPhaseMapMask;\n",
    "    write_nii_header(output_nii_file, headerinfo4);\n",
    "    fid = open(output_nii_file,\"a\");\n",
    "    write(fid, output_all);\n",
    "    close(fid);\n",
    "\n",
    "    figure(1,figsize=(10,5));imshow(reverse(permutedims(vcat(preludephasemap,newPhaseMapMask),[2,1]),dims=1),cmap=\"hot\",interpolation=\"none\"); axis(\"off\");\n",
    "#     figure(2,figsize=(10,5));imshow(reverse(permutedims(vcat(preludephasemap_cpe,newPhaseMap),[2,1]),dims=1),cmap=\"hot\",interpolation=\"none\"); axis(\"off\");\n",
    "\n",
    "end\n",
    "\n",
    "julia_main(magnitude_nii_file,phase_nii_file,partiallyUnwrapped_nii_file,criticalROI_nii_file,ChooseThisSlice,criticalROILabel);"
   ]
  },
  {
   "cell_type": "code",
   "execution_count": 4,
   "metadata": {
    "ExecuteTime": {
     "end_time": "2020-03-24T00:29:38.722000+01:00",
     "start_time": "2020-03-23T23:29:15.694Z"
    }
   },
   "outputs": [
    {
     "data": {
      "image/png": "[encoded data removed]",
      "text/plain": [
       "Figure(PyObject <Figure size 1000x500 with 1 Axes>)"
      ]
     },
     "metadata": {},
     "output_type": "display_data"
    },
    {
     "name": "stdout",
     "output_type": "stream",
     "text": [
      " 10.399793 seconds (1.19 M allocations: 3.459 GiB, 5.49% gc time)\n"
     ]
    }
   ],
   "source": [
    "function julia_main(magnitude_nii_file::String,phase_nii_file::String,partiallyUnwrapped_nii_file::String,criticalROI_nii_file::String,ChooseThisSlice::Int64,criticalROILabel::Int64)\n",
    "    headerinfo1 = load_nii_header(magnitude_nii_file);\n",
    "    data001 = load_nii_data(magnitude_nii_file, headerinfo1);\n",
    "    headerinfo1 = load_nii_header(phase_nii_file);\n",
    "    data002 = load_nii_data(phase_nii_file, headerinfo1);\n",
    "    imagedata_noise = data001 .* exp.(complex(0,1)*data002);\n",
    "\n",
    "    imgsn = imagedata_noise[:,:,ChooseThisSlice];\n",
    "    ksn = ifftshift(ifft(ifftshift(imgsn)));\n",
    "\n",
    "    @everywhere function sidm(kdata::Array{Complex{Float32},2})\n",
    "        kabs = abs.(kdata);\n",
    "        pxpy = findall(kabs .== maximum(kabs));\n",
    "        px = pxpy[1][1];\n",
    "        py = pxpy[1][2];\n",
    "        return (px,py);\n",
    "    end\n",
    "\n",
    "    datasize1,datasize2 = size(imgsn)\n",
    "\n",
    "    pxmap = SharedArray{Float64,2}((datasize1,datasize2));\n",
    "    pymap = SharedArray{Float64,2}((datasize1,datasize2));\n",
    "\n",
    "    patchsize = 7;\n",
    "    patchsize = patchsize + div(1 + (-1).^patchsize,2)\n",
    "    ps1 = max(div((patchsize-1),2),1);\n",
    "\n",
    "    @time @sync @distributed for cntx = 1:datasize1\n",
    "        @inbounds @fastmath @simd for cnty = 1:datasize2\n",
    "            tmp1 = zeros(ComplexF32,(datasize1,datasize2));\n",
    "            startingx = max(1,cntx-ps1);\n",
    "            startingy = max(1,cnty-ps1);\n",
    "            endingx = min(cntx+ps1,datasize1);\n",
    "            endingy = min(cnty+ps1,datasize2);\n",
    "            tmp1[startingx:endingx,startingy:endingy] = imgsn[startingx:endingx,startingy:endingy];\n",
    "            tmp2 = ifftshift(ifft(ifftshift(tmp1)));\n",
    "            px,py = sidm(tmp2);\n",
    "            pxmap[cntx,cnty]=px;\n",
    "            pymap[cntx,cnty]=py;\n",
    "        end\n",
    "    end\n",
    "\n",
    "    pxmap2a = pxmap.-(datasize1/2);\n",
    "    pymap2a = pymap.-(datasize2/2);\n",
    "    pxmap_radppixel = -pxmap2a*2*π/datasize1;\n",
    "    pymap_radppixel = -pymap2a*2*π/datasize2;\n",
    "\n",
    "    headerinfo4 = load_nii_header(partiallyUnwrapped_nii_file);\n",
    "    preludephasemap_all = load_nii_data(partiallyUnwrapped_nii_file, headerinfo4);\n",
    "    preludephasemap = preludephasemap_all[:,:,ChooseThisSlice];\n",
    "\n",
    "    preludemask = ones(datasize1,datasize2);\n",
    "    L = findall(preludephasemap.==0);\n",
    "    preludemask[L].=0;\n",
    "    preludephasemap_cpe = closest_point_estimation(preludephasemap,preludemask);\n",
    "\n",
    "    headerinfo5 = load_nii_header(criticalROI_nii_file);\n",
    "    criticalROI_all = load_nii_data(criticalROI_nii_file, headerinfo5);\n",
    "    criticalROI = criticalROI_all[:,:,ChooseThisSlice];\n",
    "\n",
    "    L2 = findall(criticalROI.==criticalROILabel);\n",
    "\n",
    "    if length(L2)>0\n",
    "        xcoordarray = zeros(Int64,length(L2));\n",
    "        ycoordarray = zeros(Int64,length(L2));\n",
    "        for cnt = 1:length(L2)\n",
    "            xcoordarray[cnt] = L2[cnt][1];\n",
    "            ycoordarray[cnt] = L2[cnt][2];\n",
    "        end\n",
    "\n",
    "        roiStartX = minimum(xcoordarray)-1;\n",
    "        roiEndX = maximum(xcoordarray)+1;\n",
    "        roiStartY = minimum(ycoordarray)-1;\n",
    "        roiEndY = maximum(ycoordarray)+1;\n",
    "        xdim = roiEndX-roiStartX+1;\n",
    "        ydim = roiEndY-roiStartY+1;\n",
    "\n",
    "        boundaryConditionMap = convert(Array{Float64},preludephasemap_cpe[roiStartX:roiEndX,roiStartY:roiEndY]);\n",
    "        mask = ones(xdim,ydim)-criticalROI[roiStartX:roiEndX,roiStartY:roiEndY];\n",
    "        snr_ref = abs.(imgsn)[roiStartX:roiEndX,roiStartY:roiEndY].*mask;\n",
    "        λmap = snr_ref ./maximum(snr_ref[:]);\n",
    "        λmap[:,1].=2.;\n",
    "        λmap[:,end].=2.;\n",
    "        λmap[1,:].=2.;\n",
    "        λmap[end,:].=2.;\n",
    "        Mgv = pxmap_radppixel[roiStartX:roiEndX,roiStartY:roiEndY];\n",
    "        Mgh = pymap_radppixel[roiStartX:roiEndX,roiStartY:roiEndY];\n",
    "\n",
    "        M_recovered = twoDimIntegration(mask,boundaryConditionMap,λmap,Mgv,Mgh);\n",
    "\n",
    "        newPhaseMap = deepcopy(preludephasemap_cpe);\n",
    "        newPhaseMap[roiStartX:roiEndX,roiStartY:roiEndY]= M_recovered;\n",
    "        newPhaseMapMask = newPhaseMap.*preludemask;\n",
    "    else\n",
    "        newPhaseMap = preludephasemap;\n",
    "        newPhaseMapMask = newPhaseMap.*preludemask;\n",
    "    end\n",
    "\n",
    "    headerinfo4[\"datatype\"] = Int16(16);\n",
    "    output_all = convert(Array{Float32,3}, preludephasemap_all);\n",
    "    newPhaseMapMask = convert(Array{Float32,2}, newPhaseMapMask);\n",
    "    output_all[:,:,ChooseThisSlice] = newPhaseMapMask;\n",
    "    write_nii_header(output_nii_file, headerinfo4);\n",
    "    fid = open(output_nii_file,\"a\");\n",
    "    write(fid, output_all);\n",
    "    close(fid);\n",
    "\n",
    "    #figure(1,figsize=(10,5));imshow(reverse(permutedims(vcat(preludephasemap,newPhaseMapMask),[2,1]),dims=1),cmap=\"hot\",interpolation=\"none\"); axis(\"off\");\n",
    "    figure(2,figsize=(10,5));imshow(reverse(permutedims(vcat(preludephasemap_cpe,newPhaseMap),[2,1]),dims=1),cmap=\"hot\",interpolation=\"none\"); axis(\"off\");\n",
    "\n",
    "end\n",
    "\n",
    "julia_main(magnitude_nii_file,phase_nii_file,partiallyUnwrapped_nii_file,criticalROI_nii_file,ChooseThisSlice,criticalROILabel);"
   ]
  }
 ],
 "metadata": {
  "kernelspec": {
   "display_name": "Julia 1.3.1",
   "language": "julia",
   "name": "julia-1.3"
  },
  "language_info": {
   "file_extension": ".jl",
   "mimetype": "application/julia",
   "name": "julia",
   "version": "1.3.1"
  },
  "latex_envs": {
   "LaTeX_envs_menu_present": true,
   "autoclose": false,
   "autocomplete": true,
   "bibliofile": "biblio.bib",
   "cite_by": "apalike",
   "current_citInitial": 1,
   "eqLabelWithNumbers": true,
   "eqNumInitial": 1,
   "hotkeys": {
    "equation": "Ctrl-E",
    "itemize": "Ctrl-I"
   },
   "labels_anchors": false,
   "latex_user_defs": false,
   "report_style_numbering": false,
   "user_envs_cfg": false
  },
  "varInspector": {
   "cols": {
    "lenName": 16,
    "lenType": 16,
    "lenVar": 40
   },
   "kernels_config": {
    "python": {
     "delete_cmd_postfix": "",
     "delete_cmd_prefix": "del ",
     "library": "var_list.py",
     "varRefreshCmd": "print(var_dic_list())"
    },
    "r": {
     "delete_cmd_postfix": ") ",
     "delete_cmd_prefix": "rm(",
     "library": "var_list.r",
     "varRefreshCmd": "cat(var_dic_list()) "
    }
   },
   "types_to_exclude": [
    "module",
    "function",
    "builtin_function_or_method",
    "instance",
    "_Feature"
   ],
   "window_display": false
  }
 },
 "nbformat": 4,
 "nbformat_minor": 2
}
